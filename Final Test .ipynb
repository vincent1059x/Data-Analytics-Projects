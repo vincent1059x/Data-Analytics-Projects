{
 "cells": [
  {
   "cell_type": "code",
   "execution_count": 1,
   "id": "99261768",
   "metadata": {},
   "outputs": [],
   "source": [
    "#Loading packages\n",
    "\n",
    "import numpy as np\n",
    "import pandas as pd\n",
    "import matplotlib.pyplot as plt\n",
    "import datetime as dt"
   ]
  },
  {
   "cell_type": "code",
   "execution_count": 4,
   "id": "b6683d58",
   "metadata": {},
   "outputs": [],
   "source": [
    "#Loading datasets\n",
    "\n",
    "commission_data = pd.read_csv(\"commission_data.csv\")\n",
    "transactions_data =  pd.read_csv(\"transactions_data.csv\")\n",
    "user_infor = pd.read_csv(\"user_infor.csv\")"
   ]
  },
  {
   "cell_type": "code",
   "execution_count": 78,
   "id": "b7b4e6b3",
   "metadata": {},
   "outputs": [
    {
     "data": {
      "text/html": [
       "<div>\n",
       "<style scoped>\n",
       "    .dataframe tbody tr th:only-of-type {\n",
       "        vertical-align: middle;\n",
       "    }\n",
       "\n",
       "    .dataframe tbody tr th {\n",
       "        vertical-align: top;\n",
       "    }\n",
       "\n",
       "    .dataframe thead th {\n",
       "        text-align: right;\n",
       "    }\n",
       "</style>\n",
       "<table border=\"1\" class=\"dataframe\">\n",
       "  <thead>\n",
       "    <tr style=\"text-align: right;\">\n",
       "      <th></th>\n",
       "      <th>Merchant_name</th>\n",
       "      <th>Merchant_id</th>\n",
       "      <th>Rate_pct</th>\n",
       "    </tr>\n",
       "  </thead>\n",
       "  <tbody>\n",
       "    <tr>\n",
       "      <th>0</th>\n",
       "      <td>Viettel</td>\n",
       "      <td>22.0</td>\n",
       "      <td>2.0</td>\n",
       "    </tr>\n",
       "    <tr>\n",
       "      <th>1</th>\n",
       "      <td>Mobifone</td>\n",
       "      <td>33.0</td>\n",
       "      <td>3.0</td>\n",
       "    </tr>\n",
       "    <tr>\n",
       "      <th>2</th>\n",
       "      <td>Vinaphone</td>\n",
       "      <td>44.0</td>\n",
       "      <td>4.0</td>\n",
       "    </tr>\n",
       "    <tr>\n",
       "      <th>3</th>\n",
       "      <td>Vietnamobile</td>\n",
       "      <td>55.0</td>\n",
       "      <td>4.0</td>\n",
       "    </tr>\n",
       "    <tr>\n",
       "      <th>4</th>\n",
       "      <td>Gmobile</td>\n",
       "      <td>66.0</td>\n",
       "      <td>4.0</td>\n",
       "    </tr>\n",
       "  </tbody>\n",
       "</table>\n",
       "</div>"
      ],
      "text/plain": [
       "  Merchant_name  Merchant_id  Rate_pct\n",
       "0       Viettel         22.0       2.0\n",
       "1      Mobifone         33.0       3.0\n",
       "2     Vinaphone         44.0       4.0\n",
       "3  Vietnamobile         55.0       4.0\n",
       "4       Gmobile         66.0       4.0"
      ]
     },
     "execution_count": 78,
     "metadata": {},
     "output_type": "execute_result"
    }
   ],
   "source": [
    "#Get an overview of the data\n",
    "\n",
    "commission_data.head()"
   ]
  },
  {
   "cell_type": "code",
   "execution_count": 7,
   "id": "1f7d9145",
   "metadata": {},
   "outputs": [
    {
     "data": {
      "text/html": [
       "<div>\n",
       "<style scoped>\n",
       "    .dataframe tbody tr th:only-of-type {\n",
       "        vertical-align: middle;\n",
       "    }\n",
       "\n",
       "    .dataframe tbody tr th {\n",
       "        vertical-align: top;\n",
       "    }\n",
       "\n",
       "    .dataframe thead th {\n",
       "        text-align: right;\n",
       "    }\n",
       "</style>\n",
       "<table border=\"1\" class=\"dataframe\">\n",
       "  <thead>\n",
       "    <tr style=\"text-align: right;\">\n",
       "      <th></th>\n",
       "      <th>user_id</th>\n",
       "      <th>order_id</th>\n",
       "      <th>Date</th>\n",
       "      <th>Amount</th>\n",
       "      <th>Merchant_id</th>\n",
       "      <th>Purchase_status</th>\n",
       "      <th>Partner_id</th>\n",
       "    </tr>\n",
       "  </thead>\n",
       "  <tbody>\n",
       "    <tr>\n",
       "      <th>0</th>\n",
       "      <td>21269588.0</td>\n",
       "      <td>4.169518e+09</td>\n",
       "      <td>2020-01-01</td>\n",
       "      <td>10,000</td>\n",
       "      <td>33.0</td>\n",
       "      <td>NaN</td>\n",
       "      <td>NaN</td>\n",
       "    </tr>\n",
       "    <tr>\n",
       "      <th>1</th>\n",
       "      <td>28097592.0</td>\n",
       "      <td>4.170277e+09</td>\n",
       "      <td>2020-01-01</td>\n",
       "      <td>20,000</td>\n",
       "      <td>33.0</td>\n",
       "      <td>NaN</td>\n",
       "      <td>NaN</td>\n",
       "    </tr>\n",
       "    <tr>\n",
       "      <th>2</th>\n",
       "      <td>47435144.0</td>\n",
       "      <td>4.166729e+09</td>\n",
       "      <td>2020-01-01</td>\n",
       "      <td>10,000</td>\n",
       "      <td>22.0</td>\n",
       "      <td>NaN</td>\n",
       "      <td>NaN</td>\n",
       "    </tr>\n",
       "    <tr>\n",
       "      <th>3</th>\n",
       "      <td>29080935.0</td>\n",
       "      <td>4.174460e+09</td>\n",
       "      <td>2020-01-01</td>\n",
       "      <td>10,000</td>\n",
       "      <td>33.0</td>\n",
       "      <td>NaN</td>\n",
       "      <td>NaN</td>\n",
       "    </tr>\n",
       "    <tr>\n",
       "      <th>4</th>\n",
       "      <td>14591075.0</td>\n",
       "      <td>4.168217e+09</td>\n",
       "      <td>2020-01-01</td>\n",
       "      <td>10,000</td>\n",
       "      <td>22.0</td>\n",
       "      <td>NaN</td>\n",
       "      <td>NaN</td>\n",
       "    </tr>\n",
       "  </tbody>\n",
       "</table>\n",
       "</div>"
      ],
      "text/plain": [
       "      user_id      order_id        Date  Amount  Merchant_id Purchase_status  \\\n",
       "0  21269588.0  4.169518e+09  2020-01-01  10,000         33.0             NaN   \n",
       "1  28097592.0  4.170277e+09  2020-01-01  20,000         33.0             NaN   \n",
       "2  47435144.0  4.166729e+09  2020-01-01  10,000         22.0             NaN   \n",
       "3  29080935.0  4.174460e+09  2020-01-01  10,000         33.0             NaN   \n",
       "4  14591075.0  4.168217e+09  2020-01-01  10,000         22.0             NaN   \n",
       "\n",
       "   Partner_id  \n",
       "0         NaN  \n",
       "1         NaN  \n",
       "2         NaN  \n",
       "3         NaN  \n",
       "4         NaN  "
      ]
     },
     "execution_count": 7,
     "metadata": {},
     "output_type": "execute_result"
    }
   ],
   "source": [
    "transactions_data.head()"
   ]
  },
  {
   "cell_type": "code",
   "execution_count": 8,
   "id": "406dde45",
   "metadata": {},
   "outputs": [
    {
     "data": {
      "text/html": [
       "<div>\n",
       "<style scoped>\n",
       "    .dataframe tbody tr th:only-of-type {\n",
       "        vertical-align: middle;\n",
       "    }\n",
       "\n",
       "    .dataframe tbody tr th {\n",
       "        vertical-align: top;\n",
       "    }\n",
       "\n",
       "    .dataframe thead th {\n",
       "        text-align: right;\n",
       "    }\n",
       "</style>\n",
       "<table border=\"1\" class=\"dataframe\">\n",
       "  <thead>\n",
       "    <tr style=\"text-align: right;\">\n",
       "      <th></th>\n",
       "      <th>User_id</th>\n",
       "      <th>First_tran_date</th>\n",
       "      <th>Location</th>\n",
       "      <th>Age</th>\n",
       "      <th>Gender</th>\n",
       "    </tr>\n",
       "  </thead>\n",
       "  <tbody>\n",
       "    <tr>\n",
       "      <th>0</th>\n",
       "      <td>3891001</td>\n",
       "      <td>2019-11-15</td>\n",
       "      <td>Hồ Chí Minh</td>\n",
       "      <td>&gt;37</td>\n",
       "      <td>MALE</td>\n",
       "    </tr>\n",
       "    <tr>\n",
       "      <th>1</th>\n",
       "      <td>52571990</td>\n",
       "      <td>2020-01-14</td>\n",
       "      <td>Hồ Chí Minh</td>\n",
       "      <td>&gt;37</td>\n",
       "      <td>MALE</td>\n",
       "    </tr>\n",
       "    <tr>\n",
       "      <th>2</th>\n",
       "      <td>366389</td>\n",
       "      <td>2018-09-21</td>\n",
       "      <td>Other Cities</td>\n",
       "      <td>&gt;37</td>\n",
       "      <td>MALE</td>\n",
       "    </tr>\n",
       "    <tr>\n",
       "      <th>3</th>\n",
       "      <td>51104816</td>\n",
       "      <td>2020-04-13</td>\n",
       "      <td>Other Cities</td>\n",
       "      <td>&gt;37</td>\n",
       "      <td>MALE</td>\n",
       "    </tr>\n",
       "    <tr>\n",
       "      <th>4</th>\n",
       "      <td>7710245</td>\n",
       "      <td>2018-12-21</td>\n",
       "      <td>Other Cities</td>\n",
       "      <td>&gt;37</td>\n",
       "      <td>MALE</td>\n",
       "    </tr>\n",
       "  </tbody>\n",
       "</table>\n",
       "</div>"
      ],
      "text/plain": [
       "    User_id First_tran_date      Location  Age Gender\n",
       "0   3891001      2019-11-15   Hồ Chí Minh  >37   MALE\n",
       "1  52571990      2020-01-14   Hồ Chí Minh  >37   MALE\n",
       "2    366389      2018-09-21  Other Cities  >37   MALE\n",
       "3  51104816      2020-04-13  Other Cities  >37   MALE\n",
       "4   7710245      2018-12-21  Other Cities  >37   MALE"
      ]
     },
     "execution_count": 8,
     "metadata": {},
     "output_type": "execute_result"
    }
   ],
   "source": [
    "user_infor.head()"
   ]
  },
  {
   "cell_type": "code",
   "execution_count": 11,
   "id": "bcdea4a9",
   "metadata": {},
   "outputs": [
    {
     "data": {
      "text/plain": [
       "Merchant_name     object\n",
       "Merchant_id      float64\n",
       "Rate_pct         float64\n",
       "dtype: object"
      ]
     },
     "execution_count": 11,
     "metadata": {},
     "output_type": "execute_result"
    }
   ],
   "source": [
    "commission_data.dtypes"
   ]
  },
  {
   "cell_type": "code",
   "execution_count": 12,
   "id": "e5ef3e5e",
   "metadata": {},
   "outputs": [
    {
     "data": {
      "text/plain": [
       "user_id            float64\n",
       "order_id           float64\n",
       "Date                object\n",
       "Amount              object\n",
       "Merchant_id        float64\n",
       "Purchase_status     object\n",
       "Partner_id         float64\n",
       "dtype: object"
      ]
     },
     "execution_count": 12,
     "metadata": {},
     "output_type": "execute_result"
    }
   ],
   "source": [
    "transactions_data.dtypes"
   ]
  },
  {
   "cell_type": "code",
   "execution_count": 13,
   "id": "442b1faf",
   "metadata": {},
   "outputs": [
    {
     "data": {
      "text/plain": [
       "User_id             int64\n",
       "First_tran_date    object\n",
       "Location           object\n",
       "Age                object\n",
       "Gender             object\n",
       "dtype: object"
      ]
     },
     "execution_count": 13,
     "metadata": {},
     "output_type": "execute_result"
    }
   ],
   "source": [
    "user_infor.dtypes"
   ]
  },
  {
   "cell_type": "code",
   "execution_count": 14,
   "id": "4191ab23",
   "metadata": {},
   "outputs": [
    {
     "data": {
      "text/plain": [
       "(999, 3)"
      ]
     },
     "execution_count": 14,
     "metadata": {},
     "output_type": "execute_result"
    }
   ],
   "source": [
    "commission_data.shape"
   ]
  },
  {
   "cell_type": "code",
   "execution_count": 15,
   "id": "7d29bbc1",
   "metadata": {},
   "outputs": [
    {
     "data": {
      "text/plain": [
       "(13496, 7)"
      ]
     },
     "execution_count": 15,
     "metadata": {},
     "output_type": "execute_result"
    }
   ],
   "source": [
    "transactions_data.shape"
   ]
  },
  {
   "cell_type": "code",
   "execution_count": 16,
   "id": "7ceefc73",
   "metadata": {},
   "outputs": [
    {
     "data": {
      "text/plain": [
       "(13428, 5)"
      ]
     },
     "execution_count": 16,
     "metadata": {},
     "output_type": "execute_result"
    }
   ],
   "source": [
    "user_infor.shape"
   ]
  },
  {
   "cell_type": "code",
   "execution_count": 19,
   "id": "42de634a",
   "metadata": {},
   "outputs": [
    {
     "data": {
      "text/plain": [
       "Merchant_name    994\n",
       "Merchant_id      994\n",
       "Rate_pct         994\n",
       "dtype: int64"
      ]
     },
     "execution_count": 19,
     "metadata": {},
     "output_type": "execute_result"
    }
   ],
   "source": [
    "#Check null and duplicated values and remove it\n",
    "\n",
    "commission_data.isnull().sum()"
   ]
  },
  {
   "cell_type": "code",
   "execution_count": 20,
   "id": "44f0b1e6",
   "metadata": {},
   "outputs": [
    {
     "data": {
      "text/plain": [
       "user_id                1\n",
       "order_id               1\n",
       "Date                   1\n",
       "Amount                 1\n",
       "Merchant_id            1\n",
       "Purchase_status    11261\n",
       "Partner_id         11261\n",
       "dtype: int64"
      ]
     },
     "execution_count": 20,
     "metadata": {},
     "output_type": "execute_result"
    }
   ],
   "source": [
    "transactions_data.isnull().sum()"
   ]
  },
  {
   "cell_type": "code",
   "execution_count": 21,
   "id": "bacd99e8",
   "metadata": {},
   "outputs": [
    {
     "data": {
      "text/plain": [
       "User_id            0\n",
       "First_tran_date    0\n",
       "Location           0\n",
       "Age                0\n",
       "Gender             0\n",
       "dtype: int64"
      ]
     },
     "execution_count": 21,
     "metadata": {},
     "output_type": "execute_result"
    }
   ],
   "source": [
    "user_infor.isnull().sum()"
   ]
  },
  {
   "cell_type": "code",
   "execution_count": 22,
   "id": "2e255552",
   "metadata": {},
   "outputs": [
    {
     "data": {
      "text/plain": [
       "993"
      ]
     },
     "execution_count": 22,
     "metadata": {},
     "output_type": "execute_result"
    }
   ],
   "source": [
    "commission_data.duplicated().sum()"
   ]
  },
  {
   "cell_type": "code",
   "execution_count": 34,
   "id": "abdc65f5",
   "metadata": {},
   "outputs": [],
   "source": [
    "commission_data.drop_duplicates(inplace=True)"
   ]
  },
  {
   "cell_type": "code",
   "execution_count": 36,
   "id": "73eff9e0",
   "metadata": {},
   "outputs": [],
   "source": [
    "commission_data.dropna(inplace=True)"
   ]
  },
  {
   "cell_type": "code",
   "execution_count": 39,
   "id": "e82676be",
   "metadata": {},
   "outputs": [
    {
     "data": {
      "text/html": [
       "<div>\n",
       "<style scoped>\n",
       "    .dataframe tbody tr th:only-of-type {\n",
       "        vertical-align: middle;\n",
       "    }\n",
       "\n",
       "    .dataframe tbody tr th {\n",
       "        vertical-align: top;\n",
       "    }\n",
       "\n",
       "    .dataframe thead th {\n",
       "        text-align: right;\n",
       "    }\n",
       "</style>\n",
       "<table border=\"1\" class=\"dataframe\">\n",
       "  <thead>\n",
       "    <tr style=\"text-align: right;\">\n",
       "      <th></th>\n",
       "      <th>Merchant_name</th>\n",
       "      <th>Merchant_id</th>\n",
       "      <th>Rate_pct</th>\n",
       "    </tr>\n",
       "  </thead>\n",
       "  <tbody>\n",
       "    <tr>\n",
       "      <th>0</th>\n",
       "      <td>Viettel</td>\n",
       "      <td>22.0</td>\n",
       "      <td>2.0</td>\n",
       "    </tr>\n",
       "    <tr>\n",
       "      <th>1</th>\n",
       "      <td>Mobifone</td>\n",
       "      <td>33.0</td>\n",
       "      <td>3.0</td>\n",
       "    </tr>\n",
       "    <tr>\n",
       "      <th>2</th>\n",
       "      <td>Vinaphone</td>\n",
       "      <td>44.0</td>\n",
       "      <td>4.0</td>\n",
       "    </tr>\n",
       "    <tr>\n",
       "      <th>3</th>\n",
       "      <td>Vietnamobile</td>\n",
       "      <td>55.0</td>\n",
       "      <td>4.0</td>\n",
       "    </tr>\n",
       "    <tr>\n",
       "      <th>4</th>\n",
       "      <td>Gmobile</td>\n",
       "      <td>66.0</td>\n",
       "      <td>4.0</td>\n",
       "    </tr>\n",
       "  </tbody>\n",
       "</table>\n",
       "</div>"
      ],
      "text/plain": [
       "  Merchant_name  Merchant_id  Rate_pct\n",
       "0       Viettel         22.0       2.0\n",
       "1      Mobifone         33.0       3.0\n",
       "2     Vinaphone         44.0       4.0\n",
       "3  Vietnamobile         55.0       4.0\n",
       "4       Gmobile         66.0       4.0"
      ]
     },
     "execution_count": 39,
     "metadata": {},
     "output_type": "execute_result"
    }
   ],
   "source": [
    "commission_data.head()"
   ]
  },
  {
   "cell_type": "code",
   "execution_count": 40,
   "id": "b8124d55",
   "metadata": {},
   "outputs": [
    {
     "data": {
      "text/plain": [
       "0"
      ]
     },
     "execution_count": 40,
     "metadata": {},
     "output_type": "execute_result"
    }
   ],
   "source": [
    "transactions_data.duplicated().sum()"
   ]
  },
  {
   "cell_type": "code",
   "execution_count": 41,
   "id": "78bbd819",
   "metadata": {},
   "outputs": [
    {
     "data": {
      "text/plain": [
       "0"
      ]
     },
     "execution_count": 41,
     "metadata": {},
     "output_type": "execute_result"
    }
   ],
   "source": [
    "user_infor.duplicated().sum()"
   ]
  },
  {
   "cell_type": "code",
   "execution_count": 43,
   "id": "80583c36",
   "metadata": {},
   "outputs": [],
   "source": [
    "#changing to datetype in transactions data and user infor\n",
    "\n",
    "transactions_data['Date'] = pd.to_datetime(transactions_data['Date'])"
   ]
  },
  {
   "cell_type": "code",
   "execution_count": 51,
   "id": "917d2da3",
   "metadata": {},
   "outputs": [],
   "source": [
    "user_infor = user_infor.rename(columns={'First_tran_date':'Date'})"
   ]
  },
  {
   "cell_type": "code",
   "execution_count": 52,
   "id": "64f57f23",
   "metadata": {},
   "outputs": [],
   "source": [
    "user_infor['Date'] = pd.to_datetime(user_infor['Date'])"
   ]
  },
  {
   "cell_type": "code",
   "execution_count": 77,
   "id": "2be1eb75",
   "metadata": {},
   "outputs": [],
   "source": [
    "#Make more columns to make data visualization easier later."
   ]
  },
  {
   "cell_type": "code",
   "execution_count": 54,
   "id": "d91f1983",
   "metadata": {},
   "outputs": [],
   "source": [
    "transactions_data['DayOfWeek'] = transactions_data['Date'].dt.day_name()"
   ]
  },
  {
   "cell_type": "code",
   "execution_count": 55,
   "id": "33267022",
   "metadata": {},
   "outputs": [],
   "source": [
    "user_infor['DayOfWeek'] = user_infor['Date'].dt.day_name()"
   ]
  },
  {
   "cell_type": "code",
   "execution_count": 65,
   "id": "f29b327e",
   "metadata": {},
   "outputs": [],
   "source": [
    "transactions_data['Year'] = transactions_data['Date'].dt.year"
   ]
  },
  {
   "cell_type": "code",
   "execution_count": 66,
   "id": "1e44352f",
   "metadata": {},
   "outputs": [],
   "source": [
    "transactions_data['Month'] = transactions_data['Date'].dt.month"
   ]
  },
  {
   "cell_type": "code",
   "execution_count": 67,
   "id": "ffed649d",
   "metadata": {},
   "outputs": [],
   "source": [
    "user_infor['Year'] = user_infor['Date'].dt.year"
   ]
  },
  {
   "cell_type": "code",
   "execution_count": 68,
   "id": "196e895b",
   "metadata": {},
   "outputs": [],
   "source": [
    "user_infor['Month'] = user_infor['Date'].dt.month"
   ]
  },
  {
   "cell_type": "code",
   "execution_count": 69,
   "id": "42932bbe",
   "metadata": {},
   "outputs": [],
   "source": [
    "transactions_data['Quarter'] = transactions_data['Date'].dt.to_period('Q')"
   ]
  },
  {
   "cell_type": "code",
   "execution_count": 72,
   "id": "3d439672",
   "metadata": {},
   "outputs": [],
   "source": [
    "user_infor['Quarter'] = user_infor['Date'].dt.to_period('Q')"
   ]
  },
  {
   "cell_type": "code",
   "execution_count": 91,
   "id": "0cf948e7",
   "metadata": {},
   "outputs": [],
   "source": [
    "transactions_data = transactions_data.fillna(0)\n",
    "\n",
    "transactions_data['user_id'] = transactions_data['user_id'].astype('int')"
   ]
  },
  {
   "cell_type": "code",
   "execution_count": 74,
   "id": "acd0a33e",
   "metadata": {},
   "outputs": [
    {
     "data": {
      "text/html": [
       "<div>\n",
       "<style scoped>\n",
       "    .dataframe tbody tr th:only-of-type {\n",
       "        vertical-align: middle;\n",
       "    }\n",
       "\n",
       "    .dataframe tbody tr th {\n",
       "        vertical-align: top;\n",
       "    }\n",
       "\n",
       "    .dataframe thead th {\n",
       "        text-align: right;\n",
       "    }\n",
       "</style>\n",
       "<table border=\"1\" class=\"dataframe\">\n",
       "  <thead>\n",
       "    <tr style=\"text-align: right;\">\n",
       "      <th></th>\n",
       "      <th>Merchant_name</th>\n",
       "      <th>Merchant_id</th>\n",
       "      <th>Rate_pct</th>\n",
       "    </tr>\n",
       "  </thead>\n",
       "  <tbody>\n",
       "    <tr>\n",
       "      <th>0</th>\n",
       "      <td>Viettel</td>\n",
       "      <td>22.0</td>\n",
       "      <td>2.0</td>\n",
       "    </tr>\n",
       "    <tr>\n",
       "      <th>1</th>\n",
       "      <td>Mobifone</td>\n",
       "      <td>33.0</td>\n",
       "      <td>3.0</td>\n",
       "    </tr>\n",
       "    <tr>\n",
       "      <th>2</th>\n",
       "      <td>Vinaphone</td>\n",
       "      <td>44.0</td>\n",
       "      <td>4.0</td>\n",
       "    </tr>\n",
       "    <tr>\n",
       "      <th>3</th>\n",
       "      <td>Vietnamobile</td>\n",
       "      <td>55.0</td>\n",
       "      <td>4.0</td>\n",
       "    </tr>\n",
       "    <tr>\n",
       "      <th>4</th>\n",
       "      <td>Gmobile</td>\n",
       "      <td>66.0</td>\n",
       "      <td>4.0</td>\n",
       "    </tr>\n",
       "  </tbody>\n",
       "</table>\n",
       "</div>"
      ],
      "text/plain": [
       "  Merchant_name  Merchant_id  Rate_pct\n",
       "0       Viettel         22.0       2.0\n",
       "1      Mobifone         33.0       3.0\n",
       "2     Vinaphone         44.0       4.0\n",
       "3  Vietnamobile         55.0       4.0\n",
       "4       Gmobile         66.0       4.0"
      ]
     },
     "execution_count": 74,
     "metadata": {},
     "output_type": "execute_result"
    }
   ],
   "source": [
    "commission_data.head()"
   ]
  },
  {
   "cell_type": "code",
   "execution_count": 75,
   "id": "ee8abb5b",
   "metadata": {},
   "outputs": [
    {
     "data": {
      "text/html": [
       "<div>\n",
       "<style scoped>\n",
       "    .dataframe tbody tr th:only-of-type {\n",
       "        vertical-align: middle;\n",
       "    }\n",
       "\n",
       "    .dataframe tbody tr th {\n",
       "        vertical-align: top;\n",
       "    }\n",
       "\n",
       "    .dataframe thead th {\n",
       "        text-align: right;\n",
       "    }\n",
       "</style>\n",
       "<table border=\"1\" class=\"dataframe\">\n",
       "  <thead>\n",
       "    <tr style=\"text-align: right;\">\n",
       "      <th></th>\n",
       "      <th>user_id</th>\n",
       "      <th>order_id</th>\n",
       "      <th>Date</th>\n",
       "      <th>Amount</th>\n",
       "      <th>Merchant_id</th>\n",
       "      <th>Purchase_status</th>\n",
       "      <th>Partner_id</th>\n",
       "      <th>DayOfWeek</th>\n",
       "      <th>Year</th>\n",
       "      <th>Month</th>\n",
       "      <th>Quarter</th>\n",
       "    </tr>\n",
       "  </thead>\n",
       "  <tbody>\n",
       "    <tr>\n",
       "      <th>0</th>\n",
       "      <td>21269588.0</td>\n",
       "      <td>4.169518e+09</td>\n",
       "      <td>2020-01-01</td>\n",
       "      <td>10,000</td>\n",
       "      <td>33.0</td>\n",
       "      <td>NaN</td>\n",
       "      <td>NaN</td>\n",
       "      <td>Wednesday</td>\n",
       "      <td>2020.0</td>\n",
       "      <td>1.0</td>\n",
       "      <td>2020Q1</td>\n",
       "    </tr>\n",
       "    <tr>\n",
       "      <th>1</th>\n",
       "      <td>28097592.0</td>\n",
       "      <td>4.170277e+09</td>\n",
       "      <td>2020-01-01</td>\n",
       "      <td>20,000</td>\n",
       "      <td>33.0</td>\n",
       "      <td>NaN</td>\n",
       "      <td>NaN</td>\n",
       "      <td>Wednesday</td>\n",
       "      <td>2020.0</td>\n",
       "      <td>1.0</td>\n",
       "      <td>2020Q1</td>\n",
       "    </tr>\n",
       "    <tr>\n",
       "      <th>2</th>\n",
       "      <td>47435144.0</td>\n",
       "      <td>4.166729e+09</td>\n",
       "      <td>2020-01-01</td>\n",
       "      <td>10,000</td>\n",
       "      <td>22.0</td>\n",
       "      <td>NaN</td>\n",
       "      <td>NaN</td>\n",
       "      <td>Wednesday</td>\n",
       "      <td>2020.0</td>\n",
       "      <td>1.0</td>\n",
       "      <td>2020Q1</td>\n",
       "    </tr>\n",
       "    <tr>\n",
       "      <th>3</th>\n",
       "      <td>29080935.0</td>\n",
       "      <td>4.174460e+09</td>\n",
       "      <td>2020-01-01</td>\n",
       "      <td>10,000</td>\n",
       "      <td>33.0</td>\n",
       "      <td>NaN</td>\n",
       "      <td>NaN</td>\n",
       "      <td>Wednesday</td>\n",
       "      <td>2020.0</td>\n",
       "      <td>1.0</td>\n",
       "      <td>2020Q1</td>\n",
       "    </tr>\n",
       "    <tr>\n",
       "      <th>4</th>\n",
       "      <td>14591075.0</td>\n",
       "      <td>4.168217e+09</td>\n",
       "      <td>2020-01-01</td>\n",
       "      <td>10,000</td>\n",
       "      <td>22.0</td>\n",
       "      <td>NaN</td>\n",
       "      <td>NaN</td>\n",
       "      <td>Wednesday</td>\n",
       "      <td>2020.0</td>\n",
       "      <td>1.0</td>\n",
       "      <td>2020Q1</td>\n",
       "    </tr>\n",
       "  </tbody>\n",
       "</table>\n",
       "</div>"
      ],
      "text/plain": [
       "      user_id      order_id       Date  Amount  Merchant_id Purchase_status  \\\n",
       "0  21269588.0  4.169518e+09 2020-01-01  10,000         33.0             NaN   \n",
       "1  28097592.0  4.170277e+09 2020-01-01  20,000         33.0             NaN   \n",
       "2  47435144.0  4.166729e+09 2020-01-01  10,000         22.0             NaN   \n",
       "3  29080935.0  4.174460e+09 2020-01-01  10,000         33.0             NaN   \n",
       "4  14591075.0  4.168217e+09 2020-01-01  10,000         22.0             NaN   \n",
       "\n",
       "   Partner_id  DayOfWeek    Year  Month Quarter  \n",
       "0         NaN  Wednesday  2020.0    1.0  2020Q1  \n",
       "1         NaN  Wednesday  2020.0    1.0  2020Q1  \n",
       "2         NaN  Wednesday  2020.0    1.0  2020Q1  \n",
       "3         NaN  Wednesday  2020.0    1.0  2020Q1  \n",
       "4         NaN  Wednesday  2020.0    1.0  2020Q1  "
      ]
     },
     "execution_count": 75,
     "metadata": {},
     "output_type": "execute_result"
    }
   ],
   "source": [
    "transactions_data.head()"
   ]
  },
  {
   "cell_type": "code",
   "execution_count": 76,
   "id": "2c613d86",
   "metadata": {},
   "outputs": [
    {
     "data": {
      "text/html": [
       "<div>\n",
       "<style scoped>\n",
       "    .dataframe tbody tr th:only-of-type {\n",
       "        vertical-align: middle;\n",
       "    }\n",
       "\n",
       "    .dataframe tbody tr th {\n",
       "        vertical-align: top;\n",
       "    }\n",
       "\n",
       "    .dataframe thead th {\n",
       "        text-align: right;\n",
       "    }\n",
       "</style>\n",
       "<table border=\"1\" class=\"dataframe\">\n",
       "  <thead>\n",
       "    <tr style=\"text-align: right;\">\n",
       "      <th></th>\n",
       "      <th>User_id</th>\n",
       "      <th>Date</th>\n",
       "      <th>Location</th>\n",
       "      <th>Age</th>\n",
       "      <th>Gender</th>\n",
       "      <th>DayOfWeek</th>\n",
       "      <th>Year</th>\n",
       "      <th>Month</th>\n",
       "      <th>Quarter</th>\n",
       "    </tr>\n",
       "  </thead>\n",
       "  <tbody>\n",
       "    <tr>\n",
       "      <th>0</th>\n",
       "      <td>3891001</td>\n",
       "      <td>2019-11-15</td>\n",
       "      <td>Hồ Chí Minh</td>\n",
       "      <td>&gt;37</td>\n",
       "      <td>MALE</td>\n",
       "      <td>Friday</td>\n",
       "      <td>2019</td>\n",
       "      <td>11</td>\n",
       "      <td>2019Q4</td>\n",
       "    </tr>\n",
       "    <tr>\n",
       "      <th>1</th>\n",
       "      <td>52571990</td>\n",
       "      <td>2020-01-14</td>\n",
       "      <td>Hồ Chí Minh</td>\n",
       "      <td>&gt;37</td>\n",
       "      <td>MALE</td>\n",
       "      <td>Tuesday</td>\n",
       "      <td>2020</td>\n",
       "      <td>1</td>\n",
       "      <td>2020Q1</td>\n",
       "    </tr>\n",
       "    <tr>\n",
       "      <th>2</th>\n",
       "      <td>366389</td>\n",
       "      <td>2018-09-21</td>\n",
       "      <td>Other Cities</td>\n",
       "      <td>&gt;37</td>\n",
       "      <td>MALE</td>\n",
       "      <td>Friday</td>\n",
       "      <td>2018</td>\n",
       "      <td>9</td>\n",
       "      <td>2018Q3</td>\n",
       "    </tr>\n",
       "    <tr>\n",
       "      <th>3</th>\n",
       "      <td>51104816</td>\n",
       "      <td>2020-04-13</td>\n",
       "      <td>Other Cities</td>\n",
       "      <td>&gt;37</td>\n",
       "      <td>MALE</td>\n",
       "      <td>Monday</td>\n",
       "      <td>2020</td>\n",
       "      <td>4</td>\n",
       "      <td>2020Q2</td>\n",
       "    </tr>\n",
       "    <tr>\n",
       "      <th>4</th>\n",
       "      <td>7710245</td>\n",
       "      <td>2018-12-21</td>\n",
       "      <td>Other Cities</td>\n",
       "      <td>&gt;37</td>\n",
       "      <td>MALE</td>\n",
       "      <td>Friday</td>\n",
       "      <td>2018</td>\n",
       "      <td>12</td>\n",
       "      <td>2018Q4</td>\n",
       "    </tr>\n",
       "  </tbody>\n",
       "</table>\n",
       "</div>"
      ],
      "text/plain": [
       "    User_id       Date      Location  Age Gender DayOfWeek  Year  Month  \\\n",
       "0   3891001 2019-11-15   Hồ Chí Minh  >37   MALE    Friday  2019     11   \n",
       "1  52571990 2020-01-14   Hồ Chí Minh  >37   MALE   Tuesday  2020      1   \n",
       "2    366389 2018-09-21  Other Cities  >37   MALE    Friday  2018      9   \n",
       "3  51104816 2020-04-13  Other Cities  >37   MALE    Monday  2020      4   \n",
       "4   7710245 2018-12-21  Other Cities  >37   MALE    Friday  2018     12   \n",
       "\n",
       "  Quarter  \n",
       "0  2019Q4  \n",
       "1  2020Q1  \n",
       "2  2018Q3  \n",
       "3  2020Q2  \n",
       "4  2018Q4  "
      ]
     },
     "execution_count": 76,
     "metadata": {},
     "output_type": "execute_result"
    }
   ],
   "source": [
    "user_infor.head()"
   ]
  },
  {
   "cell_type": "code",
   "execution_count": 99,
   "id": "607d2ecf",
   "metadata": {},
   "outputs": [],
   "source": [
    "merge_data = pd.merge(transactions_data, user_infor, left_on='user_id', right_on='User_id')"
   ]
  },
  {
   "cell_type": "code",
   "execution_count": 100,
   "id": "c701ad04",
   "metadata": {},
   "outputs": [
    {
     "data": {
      "text/html": [
       "<div>\n",
       "<style scoped>\n",
       "    .dataframe tbody tr th:only-of-type {\n",
       "        vertical-align: middle;\n",
       "    }\n",
       "\n",
       "    .dataframe tbody tr th {\n",
       "        vertical-align: top;\n",
       "    }\n",
       "\n",
       "    .dataframe thead th {\n",
       "        text-align: right;\n",
       "    }\n",
       "</style>\n",
       "<table border=\"1\" class=\"dataframe\">\n",
       "  <thead>\n",
       "    <tr style=\"text-align: right;\">\n",
       "      <th></th>\n",
       "      <th>user_id</th>\n",
       "      <th>order_id</th>\n",
       "      <th>Date_x</th>\n",
       "      <th>Amount</th>\n",
       "      <th>Merchant_id</th>\n",
       "      <th>Purchase_status</th>\n",
       "      <th>Partner_id</th>\n",
       "      <th>DayOfWeek_x</th>\n",
       "      <th>Year_x</th>\n",
       "      <th>Month_x</th>\n",
       "      <th>Quarter_x</th>\n",
       "      <th>User_id</th>\n",
       "      <th>Date_y</th>\n",
       "      <th>Location</th>\n",
       "      <th>Age</th>\n",
       "      <th>Gender</th>\n",
       "      <th>DayOfWeek_y</th>\n",
       "      <th>Year_y</th>\n",
       "      <th>Month_y</th>\n",
       "      <th>Quarter_y</th>\n",
       "    </tr>\n",
       "  </thead>\n",
       "  <tbody>\n",
       "    <tr>\n",
       "      <th>0</th>\n",
       "      <td>21269588</td>\n",
       "      <td>4.169518e+09</td>\n",
       "      <td>2020-01-01 00:00:00</td>\n",
       "      <td>10,000</td>\n",
       "      <td>33.0</td>\n",
       "      <td>0</td>\n",
       "      <td>0.0</td>\n",
       "      <td>Wednesday</td>\n",
       "      <td>2020.0</td>\n",
       "      <td>1.0</td>\n",
       "      <td>2020Q1</td>\n",
       "      <td>21269588</td>\n",
       "      <td>2018-12-11</td>\n",
       "      <td>Hà Nội</td>\n",
       "      <td>&gt;37</td>\n",
       "      <td>FEMALE</td>\n",
       "      <td>Tuesday</td>\n",
       "      <td>2018</td>\n",
       "      <td>12</td>\n",
       "      <td>2018Q4</td>\n",
       "    </tr>\n",
       "    <tr>\n",
       "      <th>1</th>\n",
       "      <td>28097592</td>\n",
       "      <td>4.170277e+09</td>\n",
       "      <td>2020-01-01 00:00:00</td>\n",
       "      <td>20,000</td>\n",
       "      <td>33.0</td>\n",
       "      <td>0</td>\n",
       "      <td>0.0</td>\n",
       "      <td>Wednesday</td>\n",
       "      <td>2020.0</td>\n",
       "      <td>1.0</td>\n",
       "      <td>2020Q1</td>\n",
       "      <td>28097592</td>\n",
       "      <td>2019-12-30</td>\n",
       "      <td>Hà Nội</td>\n",
       "      <td>&gt;37</td>\n",
       "      <td>FEMALE</td>\n",
       "      <td>Monday</td>\n",
       "      <td>2019</td>\n",
       "      <td>12</td>\n",
       "      <td>2019Q4</td>\n",
       "    </tr>\n",
       "    <tr>\n",
       "      <th>2</th>\n",
       "      <td>47435144</td>\n",
       "      <td>4.166729e+09</td>\n",
       "      <td>2020-01-01 00:00:00</td>\n",
       "      <td>10,000</td>\n",
       "      <td>22.0</td>\n",
       "      <td>0</td>\n",
       "      <td>0.0</td>\n",
       "      <td>Wednesday</td>\n",
       "      <td>2020.0</td>\n",
       "      <td>1.0</td>\n",
       "      <td>2020Q1</td>\n",
       "      <td>47435144</td>\n",
       "      <td>2019-11-11</td>\n",
       "      <td>Hà Nội</td>\n",
       "      <td>18_to_22</td>\n",
       "      <td>FEMALE</td>\n",
       "      <td>Monday</td>\n",
       "      <td>2019</td>\n",
       "      <td>11</td>\n",
       "      <td>2019Q4</td>\n",
       "    </tr>\n",
       "    <tr>\n",
       "      <th>3</th>\n",
       "      <td>29080935</td>\n",
       "      <td>4.174460e+09</td>\n",
       "      <td>2020-01-01 00:00:00</td>\n",
       "      <td>10,000</td>\n",
       "      <td>33.0</td>\n",
       "      <td>0</td>\n",
       "      <td>0.0</td>\n",
       "      <td>Wednesday</td>\n",
       "      <td>2020.0</td>\n",
       "      <td>1.0</td>\n",
       "      <td>2020Q1</td>\n",
       "      <td>29080935</td>\n",
       "      <td>2019-10-24</td>\n",
       "      <td>Hà Nội</td>\n",
       "      <td>18_to_22</td>\n",
       "      <td>FEMALE</td>\n",
       "      <td>Thursday</td>\n",
       "      <td>2019</td>\n",
       "      <td>10</td>\n",
       "      <td>2019Q4</td>\n",
       "    </tr>\n",
       "    <tr>\n",
       "      <th>4</th>\n",
       "      <td>14591075</td>\n",
       "      <td>4.168217e+09</td>\n",
       "      <td>2020-01-01 00:00:00</td>\n",
       "      <td>10,000</td>\n",
       "      <td>22.0</td>\n",
       "      <td>0</td>\n",
       "      <td>0.0</td>\n",
       "      <td>Wednesday</td>\n",
       "      <td>2020.0</td>\n",
       "      <td>1.0</td>\n",
       "      <td>2020Q1</td>\n",
       "      <td>14591075</td>\n",
       "      <td>2019-12-28</td>\n",
       "      <td>Other Cities</td>\n",
       "      <td>18_to_22</td>\n",
       "      <td>FEMALE</td>\n",
       "      <td>Saturday</td>\n",
       "      <td>2019</td>\n",
       "      <td>12</td>\n",
       "      <td>2019Q4</td>\n",
       "    </tr>\n",
       "  </tbody>\n",
       "</table>\n",
       "</div>"
      ],
      "text/plain": [
       "    user_id      order_id               Date_x  Amount  Merchant_id  \\\n",
       "0  21269588  4.169518e+09  2020-01-01 00:00:00  10,000         33.0   \n",
       "1  28097592  4.170277e+09  2020-01-01 00:00:00  20,000         33.0   \n",
       "2  47435144  4.166729e+09  2020-01-01 00:00:00  10,000         22.0   \n",
       "3  29080935  4.174460e+09  2020-01-01 00:00:00  10,000         33.0   \n",
       "4  14591075  4.168217e+09  2020-01-01 00:00:00  10,000         22.0   \n",
       "\n",
       "  Purchase_status  Partner_id DayOfWeek_x  Year_x  Month_x Quarter_x  \\\n",
       "0               0         0.0   Wednesday  2020.0      1.0    2020Q1   \n",
       "1               0         0.0   Wednesday  2020.0      1.0    2020Q1   \n",
       "2               0         0.0   Wednesday  2020.0      1.0    2020Q1   \n",
       "3               0         0.0   Wednesday  2020.0      1.0    2020Q1   \n",
       "4               0         0.0   Wednesday  2020.0      1.0    2020Q1   \n",
       "\n",
       "    User_id     Date_y      Location       Age  Gender DayOfWeek_y  Year_y  \\\n",
       "0  21269588 2018-12-11        Hà Nội       >37  FEMALE     Tuesday    2018   \n",
       "1  28097592 2019-12-30        Hà Nội       >37  FEMALE      Monday    2019   \n",
       "2  47435144 2019-11-11        Hà Nội  18_to_22  FEMALE      Monday    2019   \n",
       "3  29080935 2019-10-24        Hà Nội  18_to_22  FEMALE    Thursday    2019   \n",
       "4  14591075 2019-12-28  Other Cities  18_to_22  FEMALE    Saturday    2019   \n",
       "\n",
       "   Month_y Quarter_y  \n",
       "0       12    2018Q4  \n",
       "1       12    2019Q4  \n",
       "2       11    2019Q4  \n",
       "3       10    2019Q4  \n",
       "4       12    2019Q4  "
      ]
     },
     "execution_count": 100,
     "metadata": {},
     "output_type": "execute_result"
    }
   ],
   "source": [
    "merge_data.head()"
   ]
  },
  {
   "cell_type": "code",
   "execution_count": 102,
   "id": "cd0b9d49",
   "metadata": {},
   "outputs": [
    {
     "data": {
      "text/plain": [
       "(13576, 20)"
      ]
     },
     "execution_count": 102,
     "metadata": {},
     "output_type": "execute_result"
    }
   ],
   "source": [
    "merge_data.shape"
   ]
  },
  {
   "cell_type": "code",
   "execution_count": 104,
   "id": "f6a1f0d7",
   "metadata": {},
   "outputs": [],
   "source": [
    "merge_data_fn = pd.merge(merge_data, commission_data, on='Merchant_id')"
   ]
  },
  {
   "cell_type": "code",
   "execution_count": 107,
   "id": "10b3be03",
   "metadata": {},
   "outputs": [
    {
     "data": {
      "text/html": [
       "<div>\n",
       "<style scoped>\n",
       "    .dataframe tbody tr th:only-of-type {\n",
       "        vertical-align: middle;\n",
       "    }\n",
       "\n",
       "    .dataframe tbody tr th {\n",
       "        vertical-align: top;\n",
       "    }\n",
       "\n",
       "    .dataframe thead th {\n",
       "        text-align: right;\n",
       "    }\n",
       "</style>\n",
       "<table border=\"1\" class=\"dataframe\">\n",
       "  <thead>\n",
       "    <tr style=\"text-align: right;\">\n",
       "      <th></th>\n",
       "      <th>user_id</th>\n",
       "      <th>order_id</th>\n",
       "      <th>Date_x</th>\n",
       "      <th>Amount</th>\n",
       "      <th>Merchant_id</th>\n",
       "      <th>Purchase_status</th>\n",
       "      <th>Partner_id</th>\n",
       "      <th>DayOfWeek_x</th>\n",
       "      <th>Year_x</th>\n",
       "      <th>Month_x</th>\n",
       "      <th>...</th>\n",
       "      <th>Date_y</th>\n",
       "      <th>Location</th>\n",
       "      <th>Age</th>\n",
       "      <th>Gender</th>\n",
       "      <th>DayOfWeek_y</th>\n",
       "      <th>Year_y</th>\n",
       "      <th>Month_y</th>\n",
       "      <th>Quarter_y</th>\n",
       "      <th>Merchant_name</th>\n",
       "      <th>Rate_pct</th>\n",
       "    </tr>\n",
       "  </thead>\n",
       "  <tbody>\n",
       "    <tr>\n",
       "      <th>13571</th>\n",
       "      <td>1093979</td>\n",
       "      <td>8.721689e+09</td>\n",
       "      <td>2020-12-31 00:00:00</td>\n",
       "      <td>50,000</td>\n",
       "      <td>44.0</td>\n",
       "      <td>0</td>\n",
       "      <td>0.0</td>\n",
       "      <td>Thursday</td>\n",
       "      <td>2020.0</td>\n",
       "      <td>12.0</td>\n",
       "      <td>...</td>\n",
       "      <td>2019-08-01</td>\n",
       "      <td>Other Cities</td>\n",
       "      <td>unknown</td>\n",
       "      <td>MALE</td>\n",
       "      <td>Thursday</td>\n",
       "      <td>2019</td>\n",
       "      <td>8</td>\n",
       "      <td>2019Q3</td>\n",
       "      <td>Vinaphone</td>\n",
       "      <td>4.0</td>\n",
       "    </tr>\n",
       "    <tr>\n",
       "      <th>13572</th>\n",
       "      <td>8309420</td>\n",
       "      <td>8.720961e+09</td>\n",
       "      <td>2020-12-31 00:00:00</td>\n",
       "      <td>10,000</td>\n",
       "      <td>44.0</td>\n",
       "      <td>0</td>\n",
       "      <td>0.0</td>\n",
       "      <td>Thursday</td>\n",
       "      <td>2020.0</td>\n",
       "      <td>12.0</td>\n",
       "      <td>...</td>\n",
       "      <td>2020-01-31</td>\n",
       "      <td>Other Cities</td>\n",
       "      <td>unknown</td>\n",
       "      <td>FEMALE</td>\n",
       "      <td>Friday</td>\n",
       "      <td>2020</td>\n",
       "      <td>1</td>\n",
       "      <td>2020Q1</td>\n",
       "      <td>Vinaphone</td>\n",
       "      <td>4.0</td>\n",
       "    </tr>\n",
       "    <tr>\n",
       "      <th>13573</th>\n",
       "      <td>50343168</td>\n",
       "      <td>4.849822e+09</td>\n",
       "      <td>2020-02-21 00:00:00</td>\n",
       "      <td>50,000</td>\n",
       "      <td>66.0</td>\n",
       "      <td>0</td>\n",
       "      <td>0.0</td>\n",
       "      <td>Friday</td>\n",
       "      <td>2020.0</td>\n",
       "      <td>2.0</td>\n",
       "      <td>...</td>\n",
       "      <td>2019-11-24</td>\n",
       "      <td>Hồ Chí Minh</td>\n",
       "      <td>23_to_27</td>\n",
       "      <td>MALE</td>\n",
       "      <td>Sunday</td>\n",
       "      <td>2019</td>\n",
       "      <td>11</td>\n",
       "      <td>2019Q4</td>\n",
       "      <td>Gmobile</td>\n",
       "      <td>4.0</td>\n",
       "    </tr>\n",
       "    <tr>\n",
       "      <th>13574</th>\n",
       "      <td>48271969</td>\n",
       "      <td>6.746001e+09</td>\n",
       "      <td>2020-08-19 00:00:00</td>\n",
       "      <td>20,000</td>\n",
       "      <td>66.0</td>\n",
       "      <td>0</td>\n",
       "      <td>0.0</td>\n",
       "      <td>Wednesday</td>\n",
       "      <td>2020.0</td>\n",
       "      <td>8.0</td>\n",
       "      <td>...</td>\n",
       "      <td>2019-07-23</td>\n",
       "      <td>Other Cities</td>\n",
       "      <td>28_to_32</td>\n",
       "      <td>MALE</td>\n",
       "      <td>Tuesday</td>\n",
       "      <td>2019</td>\n",
       "      <td>7</td>\n",
       "      <td>2019Q3</td>\n",
       "      <td>Gmobile</td>\n",
       "      <td>4.0</td>\n",
       "    </tr>\n",
       "    <tr>\n",
       "      <th>13575</th>\n",
       "      <td>38572252</td>\n",
       "      <td>7.071489e+09</td>\n",
       "      <td>2020-09-12 00:00:00</td>\n",
       "      <td>10,000</td>\n",
       "      <td>66.0</td>\n",
       "      <td>0</td>\n",
       "      <td>0.0</td>\n",
       "      <td>Saturday</td>\n",
       "      <td>2020.0</td>\n",
       "      <td>9.0</td>\n",
       "      <td>...</td>\n",
       "      <td>2017-04-17</td>\n",
       "      <td>Other Cities</td>\n",
       "      <td>23_to_27</td>\n",
       "      <td>MALE</td>\n",
       "      <td>Monday</td>\n",
       "      <td>2017</td>\n",
       "      <td>4</td>\n",
       "      <td>2017Q2</td>\n",
       "      <td>Gmobile</td>\n",
       "      <td>4.0</td>\n",
       "    </tr>\n",
       "  </tbody>\n",
       "</table>\n",
       "<p>5 rows × 22 columns</p>\n",
       "</div>"
      ],
      "text/plain": [
       "        user_id      order_id               Date_x  Amount  Merchant_id  \\\n",
       "13571   1093979  8.721689e+09  2020-12-31 00:00:00  50,000         44.0   \n",
       "13572   8309420  8.720961e+09  2020-12-31 00:00:00  10,000         44.0   \n",
       "13573  50343168  4.849822e+09  2020-02-21 00:00:00  50,000         66.0   \n",
       "13574  48271969  6.746001e+09  2020-08-19 00:00:00  20,000         66.0   \n",
       "13575  38572252  7.071489e+09  2020-09-12 00:00:00  10,000         66.0   \n",
       "\n",
       "      Purchase_status  Partner_id DayOfWeek_x  Year_x  Month_x  ...  \\\n",
       "13571               0         0.0    Thursday  2020.0     12.0  ...   \n",
       "13572               0         0.0    Thursday  2020.0     12.0  ...   \n",
       "13573               0         0.0      Friday  2020.0      2.0  ...   \n",
       "13574               0         0.0   Wednesday  2020.0      8.0  ...   \n",
       "13575               0         0.0    Saturday  2020.0      9.0  ...   \n",
       "\n",
       "          Date_y      Location       Age  Gender DayOfWeek_y Year_y Month_y  \\\n",
       "13571 2019-08-01  Other Cities   unknown    MALE    Thursday   2019       8   \n",
       "13572 2020-01-31  Other Cities   unknown  FEMALE      Friday   2020       1   \n",
       "13573 2019-11-24   Hồ Chí Minh  23_to_27    MALE      Sunday   2019      11   \n",
       "13574 2019-07-23  Other Cities  28_to_32    MALE     Tuesday   2019       7   \n",
       "13575 2017-04-17  Other Cities  23_to_27    MALE      Monday   2017       4   \n",
       "\n",
       "       Quarter_y  Merchant_name Rate_pct  \n",
       "13571     2019Q3      Vinaphone      4.0  \n",
       "13572     2020Q1      Vinaphone      4.0  \n",
       "13573     2019Q4        Gmobile      4.0  \n",
       "13574     2019Q3        Gmobile      4.0  \n",
       "13575     2017Q2        Gmobile      4.0  \n",
       "\n",
       "[5 rows x 22 columns]"
      ]
     },
     "execution_count": 107,
     "metadata": {},
     "output_type": "execute_result"
    }
   ],
   "source": [
    "merge_data_fn.tail()"
   ]
  },
  {
   "cell_type": "code",
   "execution_count": 114,
   "id": "ee572d7d",
   "metadata": {},
   "outputs": [],
   "source": [
    "commission_data.to_csv('commission_df_cleaned.csv')"
   ]
  },
  {
   "cell_type": "code",
   "execution_count": 115,
   "id": "cfee49a2",
   "metadata": {},
   "outputs": [],
   "source": [
    "transactions_data.to_csv('transactions_df_cleaned.csv')"
   ]
  },
  {
   "cell_type": "code",
   "execution_count": 116,
   "id": "9248c8a0",
   "metadata": {},
   "outputs": [],
   "source": [
    "user_infor.to_csv('user_inf_cleaned.csv')"
   ]
  },
  {
   "cell_type": "code",
   "execution_count": 117,
   "id": "b0264c28",
   "metadata": {},
   "outputs": [],
   "source": [
    "merge_data_fn.to_csv('merge_data_cleaned.csv')"
   ]
  },
  {
   "cell_type": "code",
   "execution_count": null,
   "id": "0c662f27",
   "metadata": {},
   "outputs": [],
   "source": []
  },
  {
   "cell_type": "code",
   "execution_count": null,
   "id": "e497fd48",
   "metadata": {},
   "outputs": [],
   "source": []
  },
  {
   "cell_type": "code",
   "execution_count": null,
   "id": "a0821643",
   "metadata": {},
   "outputs": [],
   "source": []
  },
  {
   "cell_type": "code",
   "execution_count": null,
   "id": "baa1a5c1",
   "metadata": {},
   "outputs": [],
   "source": []
  }
 ],
 "metadata": {
  "kernelspec": {
   "display_name": "Python 3 (ipykernel)",
   "language": "python",
   "name": "python3"
  },
  "language_info": {
   "codemirror_mode": {
    "name": "ipython",
    "version": 3
   },
   "file_extension": ".py",
   "mimetype": "text/x-python",
   "name": "python",
   "nbconvert_exporter": "python",
   "pygments_lexer": "ipython3",
   "version": "3.8.12"
  }
 },
 "nbformat": 4,
 "nbformat_minor": 5
}
